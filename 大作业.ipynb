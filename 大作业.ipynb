{
 "cells": [
  {
   "cell_type": "markdown",
   "metadata": {},
   "source": [
    "1. 导入鸢尾属植物数据集，保持文本不变。"
   ]
  },
  {
   "cell_type": "code",
   "execution_count": 2,
   "metadata": {},
   "outputs": [],
   "source": [
    "import numpy as np\n",
    "\n",
    "file='.\\iris.data'\n",
    "iris=np.genfromtxt(file,delimiter=',', dtype=(float,float,float,float,object), names=True)\n",
    "iris['species']=iris['species'].astype(str)\n",
    "# numpy的数组元素应该都是同一类型的。类型不同的数组，dtype应为object。需要用哪一列，取出来再类型转换。\n",
    "# 结构化数组 https://www.numpy.org.cn/user/basics/rec.html#%E4%BB%8B%E7%BB%8D\n",
    "# np.loadtxt and np.genfromtxt operate in byte mode, which is the default string type in Python 2. But Python 3 uses unicode, and marks bytestrings with this b.\n",
    "# https://stackoverflow.com/questions/33655641/b-character-added-when-using-numpy-loadtxt"
   ]
  },
  {
   "cell_type": "code",
   "execution_count": 2,
   "metadata": {},
   "outputs": [
    {
     "name": "stdout",
     "output_type": "stream",
     "text": [
      "[('sepallength', '<f8'), ('sepalwidth', '<f8'), ('petallength', '<f8'), ('petalwidth', '<f8'), ('species', 'O')]\n",
      "<class 'numpy.void'>\n"
     ]
    },
    {
     "data": {
      "text/plain": [
       "array([(5.1, 3.5, 1.4, 0.2, 'Iris-setosa'),\n",
       "       (4.9, 3. , 1.4, 0.2, 'Iris-setosa'),\n",
       "       (4.7, 3.2, 1.3, 0.2, 'Iris-setosa'),\n",
       "       (4.6, 3.1, 1.5, 0.2, 'Iris-setosa'),\n",
       "       (5. , 3.6, 1.4, 0.2, 'Iris-setosa'),\n",
       "       (5.4, 3.9, 1.7, 0.4, 'Iris-setosa'),\n",
       "       (4.6, 3.4, 1.4, 0.3, 'Iris-setosa'),\n",
       "       (5. , 3.4, 1.5, 0.2, 'Iris-setosa'),\n",
       "       (4.4, 2.9, 1.4, 0.2, 'Iris-setosa'),\n",
       "       (4.9, 3.1, 1.5, 0.1, 'Iris-setosa'),\n",
       "       (5.4, 3.7, 1.5, 0.2, 'Iris-setosa'),\n",
       "       (4.8, 3.4, 1.6, 0.2, 'Iris-setosa'),\n",
       "       (4.8, 3. , 1.4, 0.1, 'Iris-setosa'),\n",
       "       (4.3, 3. , 1.1, 0.1, 'Iris-setosa'),\n",
       "       (5.8, 4. , 1.2, 0.2, 'Iris-setosa'),\n",
       "       (5.7, 4.4, 1.5, 0.4, 'Iris-setosa'),\n",
       "       (5.4, 3.9, 1.3, 0.4, 'Iris-setosa'),\n",
       "       (5.1, 3.5, 1.4, 0.3, 'Iris-setosa'),\n",
       "       (5.7, 3.8, 1.7, 0.3, 'Iris-setosa'),\n",
       "       (5.1, 3.8, 1.5, 0.3, 'Iris-setosa'),\n",
       "       (5.4, 3.4, 1.7, 0.2, 'Iris-setosa'),\n",
       "       (5.1, 3.7, 1.5, 0.4, 'Iris-setosa'),\n",
       "       (4.6, 3.6, 1. , 0.2, 'Iris-setosa'),\n",
       "       (5.1, 3.3, 1.7, 0.5, 'Iris-setosa'),\n",
       "       (4.8, 3.4, 1.9, 0.2, 'Iris-setosa'),\n",
       "       (5. , 3. , 1.6, 0.2, 'Iris-setosa'),\n",
       "       (5. , 3.4, 1.6, 0.4, 'Iris-setosa'),\n",
       "       (5.2, 3.5, 1.5, 0.2, 'Iris-setosa'),\n",
       "       (5.2, 3.4, 1.4, 0.2, 'Iris-setosa'),\n",
       "       (4.7, 3.2, 1.6, 0.2, 'Iris-setosa'),\n",
       "       (4.8, 3.1, 1.6, 0.2, 'Iris-setosa'),\n",
       "       (5.4, 3.4, 1.5, 0.4, 'Iris-setosa'),\n",
       "       (5.2, 4.1, 1.5, 0.1, 'Iris-setosa'),\n",
       "       (5.5, 4.2, 1.4, 0.2, 'Iris-setosa'),\n",
       "       (4.9, 3.1, 1.5, 0.1, 'Iris-setosa'),\n",
       "       (5. , 3.2, 1.2, 0.2, 'Iris-setosa'),\n",
       "       (5.5, 3.5, 1.3, 0.2, 'Iris-setosa'),\n",
       "       (4.9, 3.1, 1.5, 0.1, 'Iris-setosa'),\n",
       "       (4.4, 3. , 1.3, 0.2, 'Iris-setosa'),\n",
       "       (5.1, 3.4, 1.5, 0.2, 'Iris-setosa'),\n",
       "       (5. , 3.5, 1.3, 0.3, 'Iris-setosa'),\n",
       "       (4.5, 2.3, 1.3, 0.3, 'Iris-setosa'),\n",
       "       (4.4, 3.2, 1.3, 0.2, 'Iris-setosa'),\n",
       "       (5. , 3.5, 1.6, 0.6, 'Iris-setosa'),\n",
       "       (5.1, 3.8, 1.9, 0.4, 'Iris-setosa'),\n",
       "       (4.8, 3. , 1.4, 0.3, 'Iris-setosa'),\n",
       "       (5.1, 3.8, 1.6, 0.2, 'Iris-setosa'),\n",
       "       (4.6, 3.2, 1.4, 0.2, 'Iris-setosa'),\n",
       "       (5.3, 3.7, 1.5, 0.2, 'Iris-setosa'),\n",
       "       (5. , 3.3, 1.4, 0.2, 'Iris-setosa'),\n",
       "       (7. , 3.2, 4.7, 1.4, 'Iris-versicolor'),\n",
       "       (6.4, 3.2, 4.5, 1.5, 'Iris-versicolor'),\n",
       "       (6.9, 3.1, 4.9, 1.5, 'Iris-versicolor'),\n",
       "       (5.5, 2.3, 4. , 1.3, 'Iris-versicolor'),\n",
       "       (6.5, 2.8, 4.6, 1.5, 'Iris-versicolor'),\n",
       "       (5.7, 2.8, 4.5, 1.3, 'Iris-versicolor'),\n",
       "       (6.3, 3.3, 4.7, 1.6, 'Iris-versicolor'),\n",
       "       (4.9, 2.4, 3.3, 1. , 'Iris-versicolor'),\n",
       "       (6.6, 2.9, 4.6, 1.3, 'Iris-versicolor'),\n",
       "       (5.2, 2.7, 3.9, 1.4, 'Iris-versicolor'),\n",
       "       (5. , 2. , 3.5, 1. , 'Iris-versicolor'),\n",
       "       (5.9, 3. , 4.2, 1.5, 'Iris-versicolor'),\n",
       "       (6. , 2.2, 4. , 1. , 'Iris-versicolor'),\n",
       "       (6.1, 2.9, 4.7, 1.4, 'Iris-versicolor'),\n",
       "       (5.6, 2.9, 3.6, 1.3, 'Iris-versicolor'),\n",
       "       (6.7, 3.1, 4.4, 1.4, 'Iris-versicolor'),\n",
       "       (5.6, 3. , 4.5, 1.5, 'Iris-versicolor'),\n",
       "       (5.8, 2.7, 4.1, 1. , 'Iris-versicolor'),\n",
       "       (6.2, 2.2, 4.5, 1.5, 'Iris-versicolor'),\n",
       "       (5.6, 2.5, 3.9, 1.1, 'Iris-versicolor'),\n",
       "       (5.9, 3.2, 4.8, 1.8, 'Iris-versicolor'),\n",
       "       (6.1, 2.8, 4. , 1.3, 'Iris-versicolor'),\n",
       "       (6.3, 2.5, 4.9, 1.5, 'Iris-versicolor'),\n",
       "       (6.1, 2.8, 4.7, 1.2, 'Iris-versicolor'),\n",
       "       (6.4, 2.9, 4.3, 1.3, 'Iris-versicolor'),\n",
       "       (6.6, 3. , 4.4, 1.4, 'Iris-versicolor'),\n",
       "       (6.8, 2.8, 4.8, 1.4, 'Iris-versicolor'),\n",
       "       (6.7, 3. , 5. , 1.7, 'Iris-versicolor'),\n",
       "       (6. , 2.9, 4.5, 1.5, 'Iris-versicolor'),\n",
       "       (5.7, 2.6, 3.5, 1. , 'Iris-versicolor'),\n",
       "       (5.5, 2.4, 3.8, 1.1, 'Iris-versicolor'),\n",
       "       (5.5, 2.4, 3.7, 1. , 'Iris-versicolor'),\n",
       "       (5.8, 2.7, 3.9, 1.2, 'Iris-versicolor'),\n",
       "       (6. , 2.7, 5.1, 1.6, 'Iris-versicolor'),\n",
       "       (5.4, 3. , 4.5, 1.5, 'Iris-versicolor'),\n",
       "       (6. , 3.4, 4.5, 1.6, 'Iris-versicolor'),\n",
       "       (6.7, 3.1, 4.7, 1.5, 'Iris-versicolor'),\n",
       "       (6.3, 2.3, 4.4, 1.3, 'Iris-versicolor'),\n",
       "       (5.6, 3. , 4.1, 1.3, 'Iris-versicolor'),\n",
       "       (5.5, 2.5, 4. , 1.3, 'Iris-versicolor'),\n",
       "       (5.5, 2.6, 4.4, 1.2, 'Iris-versicolor'),\n",
       "       (6.1, 3. , 4.6, 1.4, 'Iris-versicolor'),\n",
       "       (5.8, 2.6, 4. , 1.2, 'Iris-versicolor'),\n",
       "       (5. , 2.3, 3.3, 1. , 'Iris-versicolor'),\n",
       "       (5.6, 2.7, 4.2, 1.3, 'Iris-versicolor'),\n",
       "       (5.7, 3. , 4.2, 1.2, 'Iris-versicolor'),\n",
       "       (5.7, 2.9, 4.2, 1.3, 'Iris-versicolor'),\n",
       "       (6.2, 2.9, 4.3, 1.3, 'Iris-versicolor'),\n",
       "       (5.1, 2.5, 3. , 1.1, 'Iris-versicolor'),\n",
       "       (5.7, 2.8, 4.1, 1.3, 'Iris-versicolor'),\n",
       "       (6.3, 3.3, 6. , 2.5, 'Iris-virginica'),\n",
       "       (5.8, 2.7, 5.1, 1.9, 'Iris-virginica'),\n",
       "       (7.1, 3. , 5.9, 2.1, 'Iris-virginica'),\n",
       "       (6.3, 2.9, 5.6, 1.8, 'Iris-virginica'),\n",
       "       (6.5, 3. , 5.8, 2.2, 'Iris-virginica'),\n",
       "       (7.6, 3. , 6.6, 2.1, 'Iris-virginica'),\n",
       "       (4.9, 2.5, 4.5, 1.7, 'Iris-virginica'),\n",
       "       (7.3, 2.9, 6.3, 1.8, 'Iris-virginica'),\n",
       "       (6.7, 2.5, 5.8, 1.8, 'Iris-virginica'),\n",
       "       (7.2, 3.6, 6.1, 2.5, 'Iris-virginica'),\n",
       "       (6.5, 3.2, 5.1, 2. , 'Iris-virginica'),\n",
       "       (6.4, 2.7, 5.3, 1.9, 'Iris-virginica'),\n",
       "       (6.8, 3. , 5.5, 2.1, 'Iris-virginica'),\n",
       "       (5.7, 2.5, 5. , 2. , 'Iris-virginica'),\n",
       "       (5.8, 2.8, 5.1, 2.4, 'Iris-virginica'),\n",
       "       (6.4, 3.2, 5.3, 2.3, 'Iris-virginica'),\n",
       "       (6.5, 3. , 5.5, 1.8, 'Iris-virginica'),\n",
       "       (7.7, 3.8, 6.7, 2.2, 'Iris-virginica'),\n",
       "       (7.7, 2.6, 6.9, 2.3, 'Iris-virginica'),\n",
       "       (6. , 2.2, 5. , 1.5, 'Iris-virginica'),\n",
       "       (6.9, 3.2, 5.7, 2.3, 'Iris-virginica'),\n",
       "       (5.6, 2.8, 4.9, 2. , 'Iris-virginica'),\n",
       "       (7.7, 2.8, 6.7, 2. , 'Iris-virginica'),\n",
       "       (6.3, 2.7, 4.9, 1.8, 'Iris-virginica'),\n",
       "       (6.7, 3.3, 5.7, 2.1, 'Iris-virginica'),\n",
       "       (7.2, 3.2, 6. , 1.8, 'Iris-virginica'),\n",
       "       (6.2, 2.8, 4.8, 1.8, 'Iris-virginica'),\n",
       "       (6.1, 3. , 4.9, 1.8, 'Iris-virginica'),\n",
       "       (6.4, 2.8, 5.6, 2.1, 'Iris-virginica'),\n",
       "       (7.2, 3. , 5.8, 1.6, 'Iris-virginica'),\n",
       "       (7.4, 2.8, 6.1, 1.9, 'Iris-virginica'),\n",
       "       (7.9, 3.8, 6.4, 2. , 'Iris-virginica'),\n",
       "       (6.4, 2.8, 5.6, 2.2, 'Iris-virginica'),\n",
       "       (6.3, 2.8, 5.1, 1.5, 'Iris-virginica'),\n",
       "       (6.1, 2.6, 5.6, 1.4, 'Iris-virginica'),\n",
       "       (7.7, 3. , 6.1, 2.3, 'Iris-virginica'),\n",
       "       (6.3, 3.4, 5.6, 2.4, 'Iris-virginica'),\n",
       "       (6.4, 3.1, 5.5, 1.8, 'Iris-virginica'),\n",
       "       (6. , 3. , 4.8, 1.8, 'Iris-virginica'),\n",
       "       (6.9, 3.1, 5.4, 2.1, 'Iris-virginica'),\n",
       "       (6.7, 3.1, 5.6, 2.4, 'Iris-virginica'),\n",
       "       (6.9, 3.1, 5.1, 2.3, 'Iris-virginica'),\n",
       "       (5.8, 2.7, 5.1, 1.9, 'Iris-virginica'),\n",
       "       (6.8, 3.2, 5.9, 2.3, 'Iris-virginica'),\n",
       "       (6.7, 3.3, 5.7, 2.5, 'Iris-virginica'),\n",
       "       (6.7, 3. , 5.2, 2.3, 'Iris-virginica'),\n",
       "       (6.3, 2.5, 5. , 1.9, 'Iris-virginica'),\n",
       "       (6.5, 3. , 5.2, 2. , 'Iris-virginica'),\n",
       "       (6.2, 3.4, 5.4, 2.3, 'Iris-virginica'),\n",
       "       (5.9, 3. , 5.1, 1.8, 'Iris-virginica')],\n",
       "      dtype=[('sepallength', '<f8'), ('sepalwidth', '<f8'), ('petallength', '<f8'), ('petalwidth', '<f8'), ('species', 'O')])"
      ]
     },
     "execution_count": 2,
     "metadata": {},
     "output_type": "execute_result"
    }
   ],
   "source": [
    "print(iris.dtype)\n",
    "print(type(iris[0]))\n",
    "iris"
   ]
  },
  {
   "cell_type": "markdown",
   "metadata": {},
   "source": [
    "2. 求出鸢尾属植物萼片长度的平均值、中位数和标准差（第1列，sepallength）"
   ]
  },
  {
   "cell_type": "code",
   "execution_count": 3,
   "metadata": {},
   "outputs": [
    {
     "name": "stdout",
     "output_type": "stream",
     "text": [
      "[5.1 4.9 4.7 4.6 5.  5.4 4.6 5.  4.4 4.9 5.4 4.8 4.8 4.3 5.8 5.7 5.4 5.1\n",
      " 5.7 5.1 5.4 5.1 4.6 5.1 4.8 5.  5.  5.2 5.2 4.7 4.8 5.4 5.2 5.5 4.9 5.\n",
      " 5.5 4.9 4.4 5.1 5.  4.5 4.4 5.  5.1 4.8 5.1 4.6 5.3 5.  7.  6.4 6.9 5.5\n",
      " 6.5 5.7 6.3 4.9 6.6 5.2 5.  5.9 6.  6.1 5.6 6.7 5.6 5.8 6.2 5.6 5.9 6.1\n",
      " 6.3 6.1 6.4 6.6 6.8 6.7 6.  5.7 5.5 5.5 5.8 6.  5.4 6.  6.7 6.3 5.6 5.5\n",
      " 5.5 6.1 5.8 5.  5.6 5.7 5.7 6.2 5.1 5.7 6.3 5.8 7.1 6.3 6.5 7.6 4.9 7.3\n",
      " 6.7 7.2 6.5 6.4 6.8 5.7 5.8 6.4 6.5 7.7 7.7 6.  6.9 5.6 7.7 6.3 6.7 7.2\n",
      " 6.2 6.1 6.4 7.2 7.4 7.9 6.4 6.3 6.1 7.7 6.3 6.4 6.  6.9 6.7 6.9 5.8 6.8\n",
      " 6.7 6.7 6.3 6.5 6.2 5.9]\n",
      "5.843333333333334\n",
      "5.8\n",
      "0.8253012917851409\n"
     ]
    }
   ],
   "source": [
    "sepallength=iris['sepallength'] # 内存地址相同\n",
    "# sepallength=iris[].astype(np.float)\n",
    "# sepalLength = np.loadtxt(outfile, dtype=float, delimiter=',', skiprows=1, usecols=[0])\n",
    "print(sepallength)\n",
    "print(np.mean(sepallength))\n",
    "print(np.median(sepallength))\n",
    "print(np.std(sepallength))"
   ]
  },
  {
   "cell_type": "markdown",
   "metadata": {},
   "source": [
    "3. 创建一种标准化形式的鸢尾属植物萼片长度，其值正好介于0和1之间，这样最小值为0，最大值为1（第1列，sepallength）。"
   ]
  },
  {
   "cell_type": "code",
   "execution_count": 4,
   "metadata": {},
   "outputs": [
    {
     "name": "stdout",
     "output_type": "stream",
     "text": [
      "[0.22222222 0.16666667 0.11111111 0.08333333 0.19444444 0.30555556\n",
      " 0.08333333 0.19444444 0.02777778 0.16666667 0.30555556 0.13888889\n",
      " 0.13888889 0.         0.41666667 0.38888889 0.30555556 0.22222222\n",
      " 0.38888889 0.22222222 0.30555556 0.22222222 0.08333333 0.22222222\n",
      " 0.13888889 0.19444444 0.19444444 0.25       0.25       0.11111111\n",
      " 0.13888889 0.30555556 0.25       0.33333333 0.16666667 0.19444444\n",
      " 0.33333333 0.16666667 0.02777778 0.22222222 0.19444444 0.05555556\n",
      " 0.02777778 0.19444444 0.22222222 0.13888889 0.22222222 0.08333333\n",
      " 0.27777778 0.19444444 0.75       0.58333333 0.72222222 0.33333333\n",
      " 0.61111111 0.38888889 0.55555556 0.16666667 0.63888889 0.25\n",
      " 0.19444444 0.44444444 0.47222222 0.5        0.36111111 0.66666667\n",
      " 0.36111111 0.41666667 0.52777778 0.36111111 0.44444444 0.5\n",
      " 0.55555556 0.5        0.58333333 0.63888889 0.69444444 0.66666667\n",
      " 0.47222222 0.38888889 0.33333333 0.33333333 0.41666667 0.47222222\n",
      " 0.30555556 0.47222222 0.66666667 0.55555556 0.36111111 0.33333333\n",
      " 0.33333333 0.5        0.41666667 0.19444444 0.36111111 0.38888889\n",
      " 0.38888889 0.52777778 0.22222222 0.38888889 0.55555556 0.41666667\n",
      " 0.77777778 0.55555556 0.61111111 0.91666667 0.16666667 0.83333333\n",
      " 0.66666667 0.80555556 0.61111111 0.58333333 0.69444444 0.38888889\n",
      " 0.41666667 0.58333333 0.61111111 0.94444444 0.94444444 0.47222222\n",
      " 0.72222222 0.36111111 0.94444444 0.55555556 0.66666667 0.80555556\n",
      " 0.52777778 0.5        0.58333333 0.80555556 0.86111111 1.\n",
      " 0.58333333 0.55555556 0.5        0.94444444 0.55555556 0.58333333\n",
      " 0.47222222 0.72222222 0.66666667 0.72222222 0.41666667 0.69444444\n",
      " 0.66666667 0.66666667 0.55555556 0.61111111 0.52777778 0.44444444]\n"
     ]
    }
   ],
   "source": [
    "smax=np.max(sepallength)\n",
    "smin=np.min(sepallength)\n",
    "standard=(sepallength-smin)/(smax-smin)\n",
    "print(standard)"
   ]
  },
  {
   "cell_type": "markdown",
   "metadata": {},
   "source": [
    "4. 找到鸢尾属植物萼片长度的第5和第95百分位数（第1列，sepallength）。"
   ]
  },
  {
   "cell_type": "code",
   "execution_count": 5,
   "metadata": {},
   "outputs": [
    {
     "name": "stdout",
     "output_type": "stream",
     "text": [
      "[4.6   7.255]\n"
     ]
    }
   ],
   "source": [
    "print(np.percentile(sepallength,[5,95]))"
   ]
  },
  {
   "cell_type": "markdown",
   "metadata": {},
   "source": [
    "5. 把iris_data数据集中的20个随机位置修改为np.nan值。"
   ]
  },
  {
   "cell_type": "code",
   "execution_count": 6,
   "metadata": {},
   "outputs": [],
   "source": [
    "name=iris.dtype.names\n",
    "x=np.random.randint(iris.size,size=20)\n",
    "y=np.random.randint(4,size=20)\n",
    "for i in range(20):\n",
    "    iris[name[y[i]]][x[i]]=np.nan"
   ]
  },
  {
   "cell_type": "code",
   "execution_count": 7,
   "metadata": {},
   "outputs": [
    {
     "data": {
      "text/plain": [
       "array([(5.1, 3.5, 1.4, 0.2, 'Iris-setosa'),\n",
       "       (4.9, 3. , 1.4, 0.2, 'Iris-setosa'),\n",
       "       (4.7, 3.2, 1.3, 0.2, 'Iris-setosa'),\n",
       "       (4.6, 3.1, 1.5, 0.2, 'Iris-setosa'),\n",
       "       (5. , 3.6, 1.4, 0.2, 'Iris-setosa'),\n",
       "       (nan, 3.9, 1.7, 0.4, 'Iris-setosa'),\n",
       "       (nan, 3.4, 1.4, 0.3, 'Iris-setosa'),\n",
       "       (5. , 3.4, 1.5, 0.2, 'Iris-setosa'),\n",
       "       (4.4, 2.9, 1.4, 0.2, 'Iris-setosa'),\n",
       "       (4.9, 3.1, 1.5, 0.1, 'Iris-setosa'),\n",
       "       (5.4, 3.7, 1.5, 0.2, 'Iris-setosa'),\n",
       "       (4.8, 3.4, 1.6, 0.2, 'Iris-setosa'),\n",
       "       (4.8, 3. , 1.4, 0.1, 'Iris-setosa'),\n",
       "       (4.3, 3. , 1.1, 0.1, 'Iris-setosa'),\n",
       "       (5.8, 4. , 1.2, 0.2, 'Iris-setosa'),\n",
       "       (5.7, 4.4, 1.5, 0.4, 'Iris-setosa'),\n",
       "       (5.4, 3.9, 1.3, 0.4, 'Iris-setosa'),\n",
       "       (5.1, 3.5, 1.4, 0.3, 'Iris-setosa'),\n",
       "       (5.7, 3.8, 1.7, 0.3, 'Iris-setosa'),\n",
       "       (5.1, 3.8, 1.5, 0.3, 'Iris-setosa'),\n",
       "       (5.4, 3.4, 1.7, 0.2, 'Iris-setosa'),\n",
       "       (5.1, 3.7, 1.5, 0.4, 'Iris-setosa'),\n",
       "       (4.6, nan, 1. , nan, 'Iris-setosa'),\n",
       "       (5.1, nan, 1.7, 0.5, 'Iris-setosa'),\n",
       "       (4.8, 3.4, 1.9, 0.2, 'Iris-setosa'),\n",
       "       (5. , 3. , 1.6, 0.2, 'Iris-setosa'),\n",
       "       (5. , 3.4, nan, 0.4, 'Iris-setosa'),\n",
       "       (5.2, 3.5, 1.5, 0.2, 'Iris-setosa'),\n",
       "       (5.2, 3.4, 1.4, 0.2, 'Iris-setosa'),\n",
       "       (4.7, 3.2, 1.6, 0.2, 'Iris-setosa'),\n",
       "       (4.8, 3.1, 1.6, 0.2, 'Iris-setosa'),\n",
       "       (5.4, 3.4, 1.5, 0.4, 'Iris-setosa'),\n",
       "       (5.2, 4.1, 1.5, 0.1, 'Iris-setosa'),\n",
       "       (5.5, 4.2, 1.4, 0.2, 'Iris-setosa'),\n",
       "       (4.9, 3.1, 1.5, 0.1, 'Iris-setosa'),\n",
       "       (5. , 3.2, 1.2, 0.2, 'Iris-setosa'),\n",
       "       (5.5, 3.5, 1.3, 0.2, 'Iris-setosa'),\n",
       "       (4.9, 3.1, 1.5, 0.1, 'Iris-setosa'),\n",
       "       (4.4, nan, 1.3, 0.2, 'Iris-setosa'),\n",
       "       (5.1, 3.4, 1.5, 0.2, 'Iris-setosa'),\n",
       "       (5. , 3.5, 1.3, 0.3, 'Iris-setosa'),\n",
       "       (4.5, 2.3, 1.3, 0.3, 'Iris-setosa'),\n",
       "       (4.4, 3.2, 1.3, 0.2, 'Iris-setosa'),\n",
       "       (5. , 3.5, 1.6, 0.6, 'Iris-setosa'),\n",
       "       (5.1, 3.8, 1.9, nan, 'Iris-setosa'),\n",
       "       (4.8, 3. , 1.4, 0.3, 'Iris-setosa'),\n",
       "       (5.1, 3.8, 1.6, 0.2, 'Iris-setosa'),\n",
       "       (4.6, 3.2, 1.4, 0.2, 'Iris-setosa'),\n",
       "       (5.3, nan, 1.5, 0.2, 'Iris-setosa'),\n",
       "       (5. , nan, 1.4, 0.2, 'Iris-setosa'),\n",
       "       (7. , 3.2, 4.7, 1.4, 'Iris-versicolor'),\n",
       "       (6.4, 3.2, 4.5, 1.5, 'Iris-versicolor'),\n",
       "       (nan, 3.1, 4.9, 1.5, 'Iris-versicolor'),\n",
       "       (5.5, 2.3, 4. , 1.3, 'Iris-versicolor'),\n",
       "       (6.5, nan, 4.6, 1.5, 'Iris-versicolor'),\n",
       "       (5.7, 2.8, 4.5, 1.3, 'Iris-versicolor'),\n",
       "       (6.3, 3.3, 4.7, 1.6, 'Iris-versicolor'),\n",
       "       (nan, 2.4, 3.3, 1. , 'Iris-versicolor'),\n",
       "       (6.6, 2.9, 4.6, 1.3, 'Iris-versicolor'),\n",
       "       (nan, 2.7, 3.9, 1.4, 'Iris-versicolor'),\n",
       "       (5. , 2. , 3.5, 1. , 'Iris-versicolor'),\n",
       "       (5.9, 3. , 4.2, 1.5, 'Iris-versicolor'),\n",
       "       (6. , 2.2, 4. , 1. , 'Iris-versicolor'),\n",
       "       (6.1, 2.9, 4.7, 1.4, 'Iris-versicolor'),\n",
       "       (5.6, 2.9, 3.6, 1.3, 'Iris-versicolor'),\n",
       "       (6.7, 3.1, 4.4, 1.4, 'Iris-versicolor'),\n",
       "       (5.6, 3. , 4.5, 1.5, 'Iris-versicolor'),\n",
       "       (5.8, 2.7, 4.1, 1. , 'Iris-versicolor'),\n",
       "       (6.2, 2.2, nan, 1.5, 'Iris-versicolor'),\n",
       "       (5.6, 2.5, 3.9, 1.1, 'Iris-versicolor'),\n",
       "       (5.9, 3.2, 4.8, 1.8, 'Iris-versicolor'),\n",
       "       (6.1, 2.8, 4. , nan, 'Iris-versicolor'),\n",
       "       (6.3, 2.5, 4.9, 1.5, 'Iris-versicolor'),\n",
       "       (6.1, 2.8, 4.7, 1.2, 'Iris-versicolor'),\n",
       "       (6.4, 2.9, 4.3, 1.3, 'Iris-versicolor'),\n",
       "       (6.6, 3. , 4.4, 1.4, 'Iris-versicolor'),\n",
       "       (6.8, 2.8, 4.8, 1.4, 'Iris-versicolor'),\n",
       "       (6.7, 3. , 5. , 1.7, 'Iris-versicolor'),\n",
       "       (6. , 2.9, 4.5, 1.5, 'Iris-versicolor'),\n",
       "       (5.7, 2.6, 3.5, 1. , 'Iris-versicolor'),\n",
       "       (5.5, 2.4, 3.8, 1.1, 'Iris-versicolor'),\n",
       "       (5.5, 2.4, 3.7, 1. , 'Iris-versicolor'),\n",
       "       (5.8, 2.7, 3.9, 1.2, 'Iris-versicolor'),\n",
       "       (6. , 2.7, 5.1, 1.6, 'Iris-versicolor'),\n",
       "       (5.4, 3. , 4.5, 1.5, 'Iris-versicolor'),\n",
       "       (6. , 3.4, 4.5, 1.6, 'Iris-versicolor'),\n",
       "       (6.7, 3.1, 4.7, 1.5, 'Iris-versicolor'),\n",
       "       (6.3, 2.3, 4.4, 1.3, 'Iris-versicolor'),\n",
       "       (5.6, 3. , 4.1, 1.3, 'Iris-versicolor'),\n",
       "       (5.5, 2.5, 4. , 1.3, 'Iris-versicolor'),\n",
       "       (5.5, 2.6, 4.4, 1.2, 'Iris-versicolor'),\n",
       "       (6.1, 3. , 4.6, 1.4, 'Iris-versicolor'),\n",
       "       (5.8, 2.6, 4. , 1.2, 'Iris-versicolor'),\n",
       "       (5. , 2.3, 3.3, 1. , 'Iris-versicolor'),\n",
       "       (5.6, 2.7, 4.2, 1.3, 'Iris-versicolor'),\n",
       "       (5.7, 3. , 4.2, 1.2, 'Iris-versicolor'),\n",
       "       (5.7, 2.9, 4.2, 1.3, 'Iris-versicolor'),\n",
       "       (6.2, 2.9, 4.3, 1.3, 'Iris-versicolor'),\n",
       "       (5.1, 2.5, 3. , 1.1, 'Iris-versicolor'),\n",
       "       (5.7, 2.8, 4.1, 1.3, 'Iris-versicolor'),\n",
       "       (6.3, 3.3, 6. , 2.5, 'Iris-virginica'),\n",
       "       (5.8, 2.7, 5.1, 1.9, 'Iris-virginica'),\n",
       "       (7.1, 3. , 5.9, 2.1, 'Iris-virginica'),\n",
       "       (6.3, 2.9, 5.6, 1.8, 'Iris-virginica'),\n",
       "       (6.5, 3. , 5.8, 2.2, 'Iris-virginica'),\n",
       "       (7.6, 3. , 6.6, 2.1, 'Iris-virginica'),\n",
       "       (4.9, 2.5, 4.5, 1.7, 'Iris-virginica'),\n",
       "       (7.3, 2.9, 6.3, 1.8, 'Iris-virginica'),\n",
       "       (6.7, 2.5, 5.8, 1.8, 'Iris-virginica'),\n",
       "       (7.2, 3.6, 6.1, 2.5, 'Iris-virginica'),\n",
       "       (6.5, 3.2, 5.1, 2. , 'Iris-virginica'),\n",
       "       (6.4, 2.7, 5.3, 1.9, 'Iris-virginica'),\n",
       "       (6.8, 3. , 5.5, 2.1, 'Iris-virginica'),\n",
       "       (5.7, 2.5, 5. , 2. , 'Iris-virginica'),\n",
       "       (5.8, 2.8, 5.1, 2.4, 'Iris-virginica'),\n",
       "       (6.4, 3.2, 5.3, 2.3, 'Iris-virginica'),\n",
       "       (6.5, 3. , 5.5, 1.8, 'Iris-virginica'),\n",
       "       (7.7, 3.8, 6.7, 2.2, 'Iris-virginica'),\n",
       "       (7.7, 2.6, 6.9, 2.3, 'Iris-virginica'),\n",
       "       (6. , 2.2, 5. , 1.5, 'Iris-virginica'),\n",
       "       (6.9, 3.2, 5.7, 2.3, 'Iris-virginica'),\n",
       "       (nan, 2.8, 4.9, 2. , 'Iris-virginica'),\n",
       "       (7.7, 2.8, 6.7, 2. , 'Iris-virginica'),\n",
       "       (6.3, 2.7, 4.9, 1.8, 'Iris-virginica'),\n",
       "       (6.7, 3.3, 5.7, 2.1, 'Iris-virginica'),\n",
       "       (7.2, 3.2, 6. , 1.8, 'Iris-virginica'),\n",
       "       (6.2, 2.8, 4.8, 1.8, 'Iris-virginica'),\n",
       "       (6.1, 3. , 4.9, 1.8, 'Iris-virginica'),\n",
       "       (6.4, 2.8, 5.6, 2.1, 'Iris-virginica'),\n",
       "       (7.2, 3. , 5.8, 1.6, 'Iris-virginica'),\n",
       "       (7.4, 2.8, 6.1, 1.9, 'Iris-virginica'),\n",
       "       (7.9, 3.8, 6.4, 2. , 'Iris-virginica'),\n",
       "       (6.4, 2.8, 5.6, 2.2, 'Iris-virginica'),\n",
       "       (6.3, 2.8, 5.1, 1.5, 'Iris-virginica'),\n",
       "       (6.1, 2.6, 5.6, nan, 'Iris-virginica'),\n",
       "       (7.7, 3. , 6.1, 2.3, 'Iris-virginica'),\n",
       "       (6.3, 3.4, 5.6, 2.4, 'Iris-virginica'),\n",
       "       (6.4, 3.1, 5.5, 1.8, 'Iris-virginica'),\n",
       "       (nan, 3. , 4.8, 1.8, 'Iris-virginica'),\n",
       "       (6.9, 3.1, 5.4, 2.1, 'Iris-virginica'),\n",
       "       (6.7, 3.1, 5.6, 2.4, 'Iris-virginica'),\n",
       "       (6.9, 3.1, 5.1, 2.3, 'Iris-virginica'),\n",
       "       (5.8, 2.7, 5.1, 1.9, 'Iris-virginica'),\n",
       "       (6.8, 3.2, 5.9, 2.3, 'Iris-virginica'),\n",
       "       (6.7, 3.3, 5.7, 2.5, 'Iris-virginica'),\n",
       "       (nan, 3. , 5.2, 2.3, 'Iris-virginica'),\n",
       "       (6.3, 2.5, 5. , 1.9, 'Iris-virginica'),\n",
       "       (6.5, 3. , 5.2, 2. , 'Iris-virginica'),\n",
       "       (6.2, 3.4, 5.4, 2.3, 'Iris-virginica'),\n",
       "       (5.9, 3. , 5.1, 1.8, 'Iris-virginica')],\n",
       "      dtype=[('sepallength', '<f8'), ('sepalwidth', '<f8'), ('petallength', '<f8'), ('petalwidth', '<f8'), ('species', 'O')])"
      ]
     },
     "execution_count": 7,
     "metadata": {},
     "output_type": "execute_result"
    }
   ],
   "source": [
    "iris"
   ]
  },
  {
   "cell_type": "markdown",
   "metadata": {},
   "source": [
    "6. 在iris_data的sepallength中查找缺失值的个数和位置（第1列）。"
   ]
  },
  {
   "cell_type": "code",
   "execution_count": 8,
   "metadata": {},
   "outputs": [
    {
     "name": "stdout",
     "output_type": "stream",
     "text": [
      "(array([  5,   6,  52,  57,  59, 121, 138, 145], dtype=int64),)\n",
      "8\n"
     ]
    }
   ],
   "source": [
    "print(np.where(np.isnan(sepallength)))\n",
    "print(len(np.where(np.isnan(sepallength))[0]))"
   ]
  },
  {
   "cell_type": "markdown",
   "metadata": {},
   "source": [
    "7. 筛选具有 sepallength（第1列）< 5.0 并且 petallength（第3列）> 1.5 的 iris_data行。"
   ]
  },
  {
   "cell_type": "code",
   "execution_count": 9,
   "metadata": {},
   "outputs": [
    {
     "name": "stdout",
     "output_type": "stream",
     "text": [
      "(array([ 11,  24,  29,  30, 106], dtype=int64),)\n"
     ]
    },
    {
     "data": {
      "text/plain": [
       "array([(4.8, 3.4, 1.6, 0.2, 'Iris-setosa'),\n",
       "       (4.8, 3.4, 1.9, 0.2, 'Iris-setosa'),\n",
       "       (4.7, 3.2, 1.6, 0.2, 'Iris-setosa'),\n",
       "       (4.8, 3.1, 1.6, 0.2, 'Iris-setosa'),\n",
       "       (4.9, 2.5, 4.5, 1.7, 'Iris-virginica')],\n",
       "      dtype=[('sepallength', '<f8'), ('sepalwidth', '<f8'), ('petallength', '<f8'), ('petalwidth', '<f8'), ('species', 'O')])"
      ]
     },
     "execution_count": 9,
     "metadata": {},
     "output_type": "execute_result"
    }
   ],
   "source": [
    "sepallength=iris['sepallength']\n",
    "petallength=iris['petallength']\n",
    "index=np.where(np.logical_and(sepallength<5.0, petallength>1.5))\n",
    "print(index)\n",
    "iris[index]"
   ]
  },
  {
   "cell_type": "markdown",
   "metadata": {},
   "source": [
    "8. 选择没有任何 nan 值的 iris_data行。"
   ]
  },
  {
   "cell_type": "code",
   "execution_count": 10,
   "metadata": {},
   "outputs": [
    {
     "data": {
      "text/plain": [
       "array([(5.1, 3.5, 1.4, 0.2, 'Iris-setosa'),\n",
       "       (4.9, 3. , 1.4, 0.2, 'Iris-setosa'),\n",
       "       (4.7, 3.2, 1.3, 0.2, 'Iris-setosa'),\n",
       "       (4.6, 3.1, 1.5, 0.2, 'Iris-setosa'),\n",
       "       (5. , 3.6, 1.4, 0.2, 'Iris-setosa'),\n",
       "       (5. , 3.4, 1.5, 0.2, 'Iris-setosa'),\n",
       "       (4.4, 2.9, 1.4, 0.2, 'Iris-setosa'),\n",
       "       (4.9, 3.1, 1.5, 0.1, 'Iris-setosa'),\n",
       "       (5.4, 3.7, 1.5, 0.2, 'Iris-setosa'),\n",
       "       (4.8, 3.4, 1.6, 0.2, 'Iris-setosa'),\n",
       "       (4.8, 3. , 1.4, 0.1, 'Iris-setosa'),\n",
       "       (4.3, 3. , 1.1, 0.1, 'Iris-setosa'),\n",
       "       (5.8, 4. , 1.2, 0.2, 'Iris-setosa'),\n",
       "       (5.7, 4.4, 1.5, 0.4, 'Iris-setosa'),\n",
       "       (5.4, 3.9, 1.3, 0.4, 'Iris-setosa'),\n",
       "       (5.1, 3.5, 1.4, 0.3, 'Iris-setosa'),\n",
       "       (5.7, 3.8, 1.7, 0.3, 'Iris-setosa'),\n",
       "       (5.1, 3.8, 1.5, 0.3, 'Iris-setosa'),\n",
       "       (5.4, 3.4, 1.7, 0.2, 'Iris-setosa'),\n",
       "       (5.1, 3.7, 1.5, 0.4, 'Iris-setosa'),\n",
       "       (4.8, 3.4, 1.9, 0.2, 'Iris-setosa'),\n",
       "       (5. , 3. , 1.6, 0.2, 'Iris-setosa'),\n",
       "       (5.2, 3.5, 1.5, 0.2, 'Iris-setosa'),\n",
       "       (5.2, 3.4, 1.4, 0.2, 'Iris-setosa'),\n",
       "       (4.7, 3.2, 1.6, 0.2, 'Iris-setosa'),\n",
       "       (4.8, 3.1, 1.6, 0.2, 'Iris-setosa'),\n",
       "       (5.4, 3.4, 1.5, 0.4, 'Iris-setosa'),\n",
       "       (5.2, 4.1, 1.5, 0.1, 'Iris-setosa'),\n",
       "       (5.5, 4.2, 1.4, 0.2, 'Iris-setosa'),\n",
       "       (4.9, 3.1, 1.5, 0.1, 'Iris-setosa'),\n",
       "       (5. , 3.2, 1.2, 0.2, 'Iris-setosa'),\n",
       "       (5.5, 3.5, 1.3, 0.2, 'Iris-setosa'),\n",
       "       (4.9, 3.1, 1.5, 0.1, 'Iris-setosa'),\n",
       "       (5.1, 3.4, 1.5, 0.2, 'Iris-setosa'),\n",
       "       (5. , 3.5, 1.3, 0.3, 'Iris-setosa'),\n",
       "       (4.5, 2.3, 1.3, 0.3, 'Iris-setosa'),\n",
       "       (4.4, 3.2, 1.3, 0.2, 'Iris-setosa'),\n",
       "       (5. , 3.5, 1.6, 0.6, 'Iris-setosa'),\n",
       "       (4.8, 3. , 1.4, 0.3, 'Iris-setosa'),\n",
       "       (5.1, 3.8, 1.6, 0.2, 'Iris-setosa'),\n",
       "       (4.6, 3.2, 1.4, 0.2, 'Iris-setosa'),\n",
       "       (7. , 3.2, 4.7, 1.4, 'Iris-versicolor'),\n",
       "       (6.4, 3.2, 4.5, 1.5, 'Iris-versicolor'),\n",
       "       (5.5, 2.3, 4. , 1.3, 'Iris-versicolor'),\n",
       "       (5.7, 2.8, 4.5, 1.3, 'Iris-versicolor'),\n",
       "       (6.3, 3.3, 4.7, 1.6, 'Iris-versicolor'),\n",
       "       (6.6, 2.9, 4.6, 1.3, 'Iris-versicolor'),\n",
       "       (5. , 2. , 3.5, 1. , 'Iris-versicolor'),\n",
       "       (5.9, 3. , 4.2, 1.5, 'Iris-versicolor'),\n",
       "       (6. , 2.2, 4. , 1. , 'Iris-versicolor'),\n",
       "       (6.1, 2.9, 4.7, 1.4, 'Iris-versicolor'),\n",
       "       (5.6, 2.9, 3.6, 1.3, 'Iris-versicolor'),\n",
       "       (6.7, 3.1, 4.4, 1.4, 'Iris-versicolor'),\n",
       "       (5.6, 3. , 4.5, 1.5, 'Iris-versicolor'),\n",
       "       (5.8, 2.7, 4.1, 1. , 'Iris-versicolor'),\n",
       "       (5.6, 2.5, 3.9, 1.1, 'Iris-versicolor'),\n",
       "       (5.9, 3.2, 4.8, 1.8, 'Iris-versicolor'),\n",
       "       (6.3, 2.5, 4.9, 1.5, 'Iris-versicolor'),\n",
       "       (6.1, 2.8, 4.7, 1.2, 'Iris-versicolor'),\n",
       "       (6.4, 2.9, 4.3, 1.3, 'Iris-versicolor'),\n",
       "       (6.6, 3. , 4.4, 1.4, 'Iris-versicolor'),\n",
       "       (6.8, 2.8, 4.8, 1.4, 'Iris-versicolor'),\n",
       "       (6.7, 3. , 5. , 1.7, 'Iris-versicolor'),\n",
       "       (6. , 2.9, 4.5, 1.5, 'Iris-versicolor'),\n",
       "       (5.7, 2.6, 3.5, 1. , 'Iris-versicolor'),\n",
       "       (5.5, 2.4, 3.8, 1.1, 'Iris-versicolor'),\n",
       "       (5.5, 2.4, 3.7, 1. , 'Iris-versicolor'),\n",
       "       (5.8, 2.7, 3.9, 1.2, 'Iris-versicolor'),\n",
       "       (6. , 2.7, 5.1, 1.6, 'Iris-versicolor'),\n",
       "       (5.4, 3. , 4.5, 1.5, 'Iris-versicolor'),\n",
       "       (6. , 3.4, 4.5, 1.6, 'Iris-versicolor'),\n",
       "       (6.7, 3.1, 4.7, 1.5, 'Iris-versicolor'),\n",
       "       (6.3, 2.3, 4.4, 1.3, 'Iris-versicolor'),\n",
       "       (5.6, 3. , 4.1, 1.3, 'Iris-versicolor'),\n",
       "       (5.5, 2.5, 4. , 1.3, 'Iris-versicolor'),\n",
       "       (5.5, 2.6, 4.4, 1.2, 'Iris-versicolor'),\n",
       "       (6.1, 3. , 4.6, 1.4, 'Iris-versicolor'),\n",
       "       (5.8, 2.6, 4. , 1.2, 'Iris-versicolor'),\n",
       "       (5. , 2.3, 3.3, 1. , 'Iris-versicolor'),\n",
       "       (5.6, 2.7, 4.2, 1.3, 'Iris-versicolor'),\n",
       "       (5.7, 3. , 4.2, 1.2, 'Iris-versicolor'),\n",
       "       (5.7, 2.9, 4.2, 1.3, 'Iris-versicolor'),\n",
       "       (6.2, 2.9, 4.3, 1.3, 'Iris-versicolor'),\n",
       "       (5.1, 2.5, 3. , 1.1, 'Iris-versicolor'),\n",
       "       (5.7, 2.8, 4.1, 1.3, 'Iris-versicolor'),\n",
       "       (6.3, 3.3, 6. , 2.5, 'Iris-virginica'),\n",
       "       (5.8, 2.7, 5.1, 1.9, 'Iris-virginica'),\n",
       "       (7.1, 3. , 5.9, 2.1, 'Iris-virginica'),\n",
       "       (6.3, 2.9, 5.6, 1.8, 'Iris-virginica'),\n",
       "       (6.5, 3. , 5.8, 2.2, 'Iris-virginica'),\n",
       "       (7.6, 3. , 6.6, 2.1, 'Iris-virginica'),\n",
       "       (4.9, 2.5, 4.5, 1.7, 'Iris-virginica'),\n",
       "       (7.3, 2.9, 6.3, 1.8, 'Iris-virginica'),\n",
       "       (6.7, 2.5, 5.8, 1.8, 'Iris-virginica'),\n",
       "       (7.2, 3.6, 6.1, 2.5, 'Iris-virginica'),\n",
       "       (6.5, 3.2, 5.1, 2. , 'Iris-virginica'),\n",
       "       (6.4, 2.7, 5.3, 1.9, 'Iris-virginica'),\n",
       "       (6.8, 3. , 5.5, 2.1, 'Iris-virginica'),\n",
       "       (5.7, 2.5, 5. , 2. , 'Iris-virginica'),\n",
       "       (5.8, 2.8, 5.1, 2.4, 'Iris-virginica'),\n",
       "       (6.4, 3.2, 5.3, 2.3, 'Iris-virginica'),\n",
       "       (6.5, 3. , 5.5, 1.8, 'Iris-virginica'),\n",
       "       (7.7, 3.8, 6.7, 2.2, 'Iris-virginica'),\n",
       "       (7.7, 2.6, 6.9, 2.3, 'Iris-virginica'),\n",
       "       (6. , 2.2, 5. , 1.5, 'Iris-virginica'),\n",
       "       (6.9, 3.2, 5.7, 2.3, 'Iris-virginica'),\n",
       "       (7.7, 2.8, 6.7, 2. , 'Iris-virginica'),\n",
       "       (6.3, 2.7, 4.9, 1.8, 'Iris-virginica'),\n",
       "       (6.7, 3.3, 5.7, 2.1, 'Iris-virginica'),\n",
       "       (7.2, 3.2, 6. , 1.8, 'Iris-virginica'),\n",
       "       (6.2, 2.8, 4.8, 1.8, 'Iris-virginica'),\n",
       "       (6.1, 3. , 4.9, 1.8, 'Iris-virginica'),\n",
       "       (6.4, 2.8, 5.6, 2.1, 'Iris-virginica'),\n",
       "       (7.2, 3. , 5.8, 1.6, 'Iris-virginica'),\n",
       "       (7.4, 2.8, 6.1, 1.9, 'Iris-virginica'),\n",
       "       (7.9, 3.8, 6.4, 2. , 'Iris-virginica'),\n",
       "       (6.4, 2.8, 5.6, 2.2, 'Iris-virginica'),\n",
       "       (6.3, 2.8, 5.1, 1.5, 'Iris-virginica'),\n",
       "       (7.7, 3. , 6.1, 2.3, 'Iris-virginica'),\n",
       "       (6.3, 3.4, 5.6, 2.4, 'Iris-virginica'),\n",
       "       (6.4, 3.1, 5.5, 1.8, 'Iris-virginica'),\n",
       "       (6.9, 3.1, 5.4, 2.1, 'Iris-virginica'),\n",
       "       (6.7, 3.1, 5.6, 2.4, 'Iris-virginica'),\n",
       "       (6.9, 3.1, 5.1, 2.3, 'Iris-virginica'),\n",
       "       (5.8, 2.7, 5.1, 1.9, 'Iris-virginica'),\n",
       "       (6.8, 3.2, 5.9, 2.3, 'Iris-virginica'),\n",
       "       (6.7, 3.3, 5.7, 2.5, 'Iris-virginica'),\n",
       "       (6.3, 2.5, 5. , 1.9, 'Iris-virginica'),\n",
       "       (6.5, 3. , 5.2, 2. , 'Iris-virginica'),\n",
       "       (6.2, 3.4, 5.4, 2.3, 'Iris-virginica'),\n",
       "       (5.9, 3. , 5.1, 1.8, 'Iris-virginica')],\n",
       "      dtype=[('sepallength', '<f8'), ('sepalwidth', '<f8'), ('petallength', '<f8'), ('petalwidth', '<f8'), ('species', 'O')])"
      ]
     },
     "execution_count": 10,
     "metadata": {},
     "output_type": "execute_result"
    }
   ],
   "source": [
    "index=np.where(~np.isnan(sepallength))\n",
    "type(iris[name[4]][1])\n",
    "for i in range(1,4):\n",
    "    index=np.intersect1d(index,np.where(~np.isnan(iris[name[i]])))\n",
    "iris[index]"
   ]
  },
  {
   "cell_type": "markdown",
   "metadata": {},
   "source": [
    "9. 计算 iris_data 中sepalLength（第1列）和petalLength（第3列）之间的相关系数。"
   ]
  },
  {
   "cell_type": "code",
   "execution_count": 14,
   "metadata": {},
   "outputs": [
    {
     "name": "stdout",
     "output_type": "stream",
     "text": [
      "[[0.69031356 1.27997769]\n",
      " [1.27997769 3.11959248]]\n"
     ]
    }
   ],
   "source": [
    "print(np.cov(sepallength[index], petallength[index]))"
   ]
  },
  {
   "cell_type": "markdown",
   "metadata": {},
   "source": [
    "10. 找出iris_data是否有任何缺失值。"
   ]
  },
  {
   "cell_type": "code",
   "execution_count": 58,
   "metadata": {},
   "outputs": [],
   "source": [
    "outfile = r'.\\iris.data'\n",
    "iris_data = np.loadtxt(outfile, dtype=float, delimiter=',', skiprows=1, usecols=[0, 1, 2, 3])\n",
    "i, j = iris_data.shape\n",
    "np.random.seed(20201128)\n",
    "iris_data[np.random.randint(i, size=20), np.random.randint(j, size=20)] = np.nan\n",
    "x = np.isnan(iris_data)\n",
    "print(np.any(x))"
   ]
  },
  {
   "cell_type": "markdown",
   "metadata": {},
   "source": [
    "11. 在numpy数组中将所有出现的nan替换为0。"
   ]
  },
  {
   "cell_type": "code",
   "execution_count": null,
   "metadata": {},
   "outputs": [],
   "source": [
    "iris_data[np.isnan(iris_data)]=0\n",
    "iris_data"
   ]
  },
  {
   "cell_type": "markdown",
   "metadata": {},
   "source": [
    "12. 找出鸢尾属植物物种中的唯一值和唯一值出现的数量。"
   ]
  },
  {
   "cell_type": "code",
   "execution_count": 62,
   "metadata": {},
   "outputs": [
    {
     "data": {
      "text/plain": [
       "(array(['Iris-setosa', 'Iris-versicolor', 'Iris-virginica'], dtype=object),\n",
       " array([50, 50, 50], dtype=int64))"
      ]
     },
     "execution_count": 62,
     "metadata": {},
     "output_type": "execute_result"
    }
   ],
   "source": [
    "species=iris['species']\n",
    "np.unique(species,return_counts=True)"
   ]
  },
  {
   "cell_type": "markdown",
   "metadata": {},
   "source": [
    "13. 将 iris_data 的花瓣长度（第3列）以形成分类变量的形式显示。定义：Less than 3 --> 'small'；3-5 --> 'medium'；'>=5 --> 'large'。"
   ]
  },
  {
   "cell_type": "code",
   "execution_count": 6,
   "metadata": {},
   "outputs": [
    {
     "data": {
      "text/plain": [
       "1.0"
      ]
     },
     "execution_count": 6,
     "metadata": {},
     "output_type": "execute_result"
    }
   ],
   "source": [
    "outfile = r'.\\iris.data'\n",
    "petallength=np.loadtxt(outfile, dtype=float, delimiter=',', skiprows=1, usecols=2)\n",
    "np.sum(np.isnan(petallength))\n",
    "np.min(petallength)"
   ]
  },
  {
   "cell_type": "code",
   "execution_count": 9,
   "metadata": {},
   "outputs": [
    {
     "data": {
      "text/plain": [
       "['small',\n",
       " 'small',\n",
       " 'small',\n",
       " 'small',\n",
       " 'small',\n",
       " 'small',\n",
       " 'small',\n",
       " 'small',\n",
       " 'small',\n",
       " 'small',\n",
       " 'small',\n",
       " 'small',\n",
       " 'small',\n",
       " 'small',\n",
       " 'small',\n",
       " 'small',\n",
       " 'small',\n",
       " 'small',\n",
       " 'small',\n",
       " 'small',\n",
       " 'small',\n",
       " 'small',\n",
       " 'small',\n",
       " 'small',\n",
       " 'small',\n",
       " 'small',\n",
       " 'small',\n",
       " 'small',\n",
       " 'small',\n",
       " 'small',\n",
       " 'small',\n",
       " 'small',\n",
       " 'small',\n",
       " 'small',\n",
       " 'small',\n",
       " 'small',\n",
       " 'small',\n",
       " 'small',\n",
       " 'small',\n",
       " 'small',\n",
       " 'small',\n",
       " 'small',\n",
       " 'small',\n",
       " 'small',\n",
       " 'small',\n",
       " 'small',\n",
       " 'small',\n",
       " 'small',\n",
       " 'small',\n",
       " 'small',\n",
       " 'medium',\n",
       " 'medium',\n",
       " 'medium',\n",
       " 'medium',\n",
       " 'medium',\n",
       " 'medium',\n",
       " 'medium',\n",
       " 'medium',\n",
       " 'medium',\n",
       " 'medium',\n",
       " 'medium',\n",
       " 'medium',\n",
       " 'medium',\n",
       " 'medium',\n",
       " 'medium',\n",
       " 'medium',\n",
       " 'medium',\n",
       " 'medium',\n",
       " 'medium',\n",
       " 'medium',\n",
       " 'medium',\n",
       " 'medium',\n",
       " 'medium',\n",
       " 'medium',\n",
       " 'medium',\n",
       " 'medium',\n",
       " 'medium',\n",
       " 'large',\n",
       " 'medium',\n",
       " 'medium',\n",
       " 'medium',\n",
       " 'medium',\n",
       " 'medium',\n",
       " 'large',\n",
       " 'medium',\n",
       " 'medium',\n",
       " 'medium',\n",
       " 'medium',\n",
       " 'medium',\n",
       " 'medium',\n",
       " 'medium',\n",
       " 'medium',\n",
       " 'medium',\n",
       " 'medium',\n",
       " 'medium',\n",
       " 'medium',\n",
       " 'medium',\n",
       " 'medium',\n",
       " 'medium',\n",
       " 'medium',\n",
       " 'large',\n",
       " 'large',\n",
       " 'large',\n",
       " 'large',\n",
       " 'large',\n",
       " 'large',\n",
       " 'medium',\n",
       " 'large',\n",
       " 'large',\n",
       " 'large',\n",
       " 'large',\n",
       " 'large',\n",
       " 'large',\n",
       " 'large',\n",
       " 'large',\n",
       " 'large',\n",
       " 'large',\n",
       " 'large',\n",
       " 'large',\n",
       " 'large',\n",
       " 'large',\n",
       " 'medium',\n",
       " 'large',\n",
       " 'medium',\n",
       " 'large',\n",
       " 'large',\n",
       " 'medium',\n",
       " 'medium',\n",
       " 'large',\n",
       " 'large',\n",
       " 'large',\n",
       " 'large',\n",
       " 'large',\n",
       " 'large',\n",
       " 'large',\n",
       " 'large',\n",
       " 'large',\n",
       " 'large',\n",
       " 'medium',\n",
       " 'large',\n",
       " 'large',\n",
       " 'large',\n",
       " 'large',\n",
       " 'large',\n",
       " 'large',\n",
       " 'large',\n",
       " 'large',\n",
       " 'large',\n",
       " 'large',\n",
       " 'large']"
      ]
     },
     "execution_count": 9,
     "metadata": {},
     "output_type": "execute_result"
    }
   ],
   "source": [
    "bins = np.array([0, 3.0, 5.0, 10.0])\n",
    "inds = np.digitize(petallength, bins)\n",
    "label_map={1:'small', 2:'medium', 3:'large'}\n",
    "petal_length_cat =[label_map[x] for x in inds]\n",
    "petal_length_cat"
   ]
  },
  {
   "cell_type": "markdown",
   "metadata": {},
   "source": [
    "14. 在 iris_data 中创建一个新列，其中 volume 是 (pi x petallength x sepallength ^ 2）/ 3。"
   ]
  },
  {
   "cell_type": "code",
   "execution_count": 10,
   "metadata": {},
   "outputs": [
    {
     "name": "stdout",
     "output_type": "stream",
     "text": [
      "[['5.1' '3.5' '1.4' '0.2' 'Iris-setosa' 38.13265162927291]\n",
      " ['4.9' '3.0' '1.4' '0.2' 'Iris-setosa' 35.200498485922445]\n",
      " ['4.7' '3.2' '1.3' '0.2' 'Iris-setosa' 30.0723720777127]\n",
      " ['4.6' '3.1' '1.5' '0.2' 'Iris-setosa' 33.238050274980004]\n",
      " ['5.0' '3.6' '1.4' '0.2' 'Iris-setosa' 36.65191429188092]\n",
      " ['5.4' '3.9' '1.7' '0.4' 'Iris-setosa' 51.911677007917746]\n",
      " ['4.6' '3.4' '1.4' '0.3' 'Iris-setosa' 31.022180256648003]\n",
      " ['5.0' '3.4' '1.5' '0.2' 'Iris-setosa' 39.269908169872416]\n",
      " ['4.4' '2.9' '1.4' '0.2' 'Iris-setosa' 28.38324242763259]\n",
      " ['4.9' '3.1' '1.5' '0.1' 'Iris-setosa' 37.714819806345474]]\n"
     ]
    }
   ],
   "source": [
    "outfile = r'.\\iris.data'\n",
    "iris_data = np.loadtxt(outfile, dtype=object, delimiter=',', skiprows=1)\n",
    "sepalLength = iris_data[:, 0].astype(float)\n",
    "petalLength = iris_data[:, 2].astype(float)\n",
    "volume = (np.pi * petalLength * sepalLength ** 2) / 3\n",
    "volume = volume[:, np.newaxis]\n",
    "iris_data = np.concatenate([iris_data, volume], axis=1)\n",
    "print(iris_data[0:10])"
   ]
  },
  {
   "cell_type": "markdown",
   "metadata": {},
   "source": [
    "15. 随机抽鸢尾属植物的种类，使得Iris-setosa的数量是Iris-versicolor和Iris-virginica数量的两倍。"
   ]
  },
  {
   "cell_type": "code",
   "execution_count": null,
   "metadata": {},
   "outputs": [],
   "source": []
  }
 ],
 "metadata": {
  "kernelspec": {
   "display_name": "Python 3",
   "language": "python",
   "name": "python3"
  },
  "language_info": {
   "codemirror_mode": {
    "name": "ipython",
    "version": 3
   },
   "file_extension": ".py",
   "mimetype": "text/x-python",
   "name": "python",
   "nbconvert_exporter": "python",
   "pygments_lexer": "ipython3",
   "version": "3.7.3"
  }
 },
 "nbformat": 4,
 "nbformat_minor": 4
}
